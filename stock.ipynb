{
 "cells": [
  {
   "cell_type": "code",
   "execution_count": null,
   "metadata": {},
   "outputs": [],
   "source": []
  },
  {
   "cell_type": "code",
   "execution_count": 1,
   "metadata": {},
   "outputs": [
    {
     "ename": "NameError",
     "evalue": "name 'df' is not defined",
     "output_type": "error",
     "traceback": [
      "\u001b[1;31m---------------------------------------------------------------------------\u001b[0m",
      "\u001b[1;31mNameError\u001b[0m                                 Traceback (most recent call last)",
      "Cell \u001b[1;32mIn[1], line 36\u001b[0m\n\u001b[0;32m     33\u001b[0m q_values \u001b[38;5;241m=\u001b[39m \u001b[38;5;28mrange\u001b[39m(\u001b[38;5;241m0\u001b[39m, \u001b[38;5;241m6\u001b[39m)  \u001b[38;5;66;03m# Moving Average order\u001b[39;00m\n\u001b[0;32m     35\u001b[0m \u001b[38;5;66;03m# Perform grid search to find the best ARIMA model\u001b[39;00m\n\u001b[1;32m---> 36\u001b[0m best_model, best_order, best_aic \u001b[38;5;241m=\u001b[39m grid_search_arima(\u001b[43mdf\u001b[49m, p_values, d_values, q_values)\n\u001b[0;32m     38\u001b[0m \u001b[38;5;66;03m# Print the best model parameters\u001b[39;00m\n\u001b[0;32m     39\u001b[0m \u001b[38;5;28mprint\u001b[39m(\u001b[38;5;124mf\u001b[39m\u001b[38;5;124m\"\u001b[39m\u001b[38;5;124mBest ARIMA Order: \u001b[39m\u001b[38;5;132;01m{\u001b[39;00mbest_order\u001b[38;5;132;01m}\u001b[39;00m\u001b[38;5;124m\"\u001b[39m)\n",
      "\u001b[1;31mNameError\u001b[0m: name 'df' is not defined"
     ]
    }
   ],
   "source": [
    "import numpy as np\n",
    "from sklearn.metrics import mean_absolute_error, mean_squared_error, mean_absolute_percentage_error\n",
    "from statsmodels.tsa.arima.model import ARIMA\n",
    "\n",
    "# Define a function to perform grid search for hyperparameter tuning\n",
    "def grid_search_arima(df, p_values, d_values, q_values):\n",
    "    best_aic = np.inf\n",
    "    best_order = None\n",
    "    best_model = None\n",
    "    \n",
    "    for p in p_values:\n",
    "        for d in d_values:\n",
    "            for q in q_values:\n",
    "                try:\n",
    "                    # Fit the ARIMA model\n",
    "                    model = ARIMA(df['Close'], order=(p, d, q))\n",
    "                    model_fit = model.fit()\n",
    "                    \n",
    "                    # Store the model if it has the lowest AIC\n",
    "                    if model_fit.aic < best_aic:\n",
    "                        best_aic = model_fit.aic\n",
    "                        best_order = (p, d, q)\n",
    "                        best_model = model_fit\n",
    "                except Exception as e:\n",
    "                    # Skip combinations that cause errors\n",
    "                    continue\n",
    "    \n",
    "    return best_model, best_order, best_aic\n",
    "\n",
    "# Define ranges for hyperparameters\n",
    "p_values = range(0, 6)  # Autoregressive order\n",
    "d_values = range(0, 3)  # Differencing order\n",
    "q_values = range(0, 6)  # Moving Average order\n",
    "\n",
    "# Perform grid search to find the best ARIMA model\n",
    "best_model, best_order, best_aic = grid_search_arima(df, p_values, d_values, q_values)\n",
    "\n",
    "# Print the best model parameters\n",
    "print(f\"Best ARIMA Order: {best_order}\")\n",
    "print(f\"Best AIC: {best_aic}\")\n",
    "\n",
    "# Forecasting using the best model\n",
    "forecast_steps = 30\n",
    "forecast = best_model.forecast(steps=forecast_steps)\n",
    "\n",
    "# Visualizing the forecast\n",
    "plt.figure(figsize=(12, 6))\n",
    "plt.plot(df['Close'], label='Historical Prices')\n",
    "plt.plot(pd.date_range(df.index[-1], periods=forecast_steps+1, freq='B')[1:], forecast, label='Forecasted Prices', color='orange')\n",
    "plt.title(\"Stock Price Forecast\")\n",
    "plt.xlabel(\"Date\")\n",
    "plt.ylabel(\"Price\")\n",
    "plt.legend()\n",
    "plt.show()\n",
    "\n",
    "# Calculate forecast error\n",
    "forecast_dates = pd.date_range(df.index[-1], periods=forecast_steps+1, freq='B')[1:]\n",
    "y_true = df['Close'].iloc[-forecast_steps:]  # True values for comparison\n",
    "\n",
    "# Calculate the Mean Absolute Error (MAE)\n",
    "mae = mean_absolute_error(y_true, forecast)\n",
    "# Calculate the Mean Squared Error (MSE)\n",
    "mse = mean_squared_error(y_true, forecast)\n",
    "# Calculate the Root Mean Squared Error (RMSE)\n",
    "rmse = np.sqrt(mse)\n",
    "\n",
    "print(f\"Mean Absolute Error (MAE): {mae}\")\n",
    "print(f\"Mean Squared Error (MSE): {mse}\")\n",
    "print(f\"Root Mean Squared Error (RMSE): {rmse}\")"
   ]
  },
  {
   "cell_type": "code",
   "execution_count": null,
   "metadata": {},
   "outputs": [],
   "source": []
  }
 ],
 "metadata": {
  "kernelspec": {
   "display_name": "Python 3",
   "language": "python",
   "name": "python3"
  },
  "language_info": {
   "codemirror_mode": {
    "name": "ipython",
    "version": 3
   },
   "file_extension": ".py",
   "mimetype": "text/x-python",
   "name": "python",
   "nbconvert_exporter": "python",
   "pygments_lexer": "ipython3",
   "version": "3.13.0"
  }
 },
 "nbformat": 4,
 "nbformat_minor": 2
}
